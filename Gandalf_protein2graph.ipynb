{
 "cells": [
  {
   "cell_type": "code",
   "execution_count": 1,
   "metadata": {},
   "outputs": [
    {
     "name": "stderr",
     "output_type": "stream",
     "text": [
      "/opt/conda/lib/python3.7/site-packages/tqdm/auto.py:22: TqdmWarning: IProgress not found. Please update jupyter and ipywidgets. See https://ipywidgets.readthedocs.io/en/stable/user_install.html\n",
      "  from .autonotebook import tqdm as notebook_tqdm\n",
      "To use the Graphein submodule graphein.protein.features.sequence.embeddings, you need to install: biovec \n",
      "biovec cannot be installed via conda\n",
      "To use the Graphein submodule graphein.protein.visualisation, you need to install: pytorch3d \n",
      "To do so, use the following command: conda install -c pytorch3d pytorch3d\n"
     ]
    },
    {
     "data": {
      "text/html": [
       "<pre style=\"white-space:pre;overflow-x:auto;line-height:normal;font-family:Menlo,'DejaVu Sans Mono',consolas,'Courier New',monospace\"><span style=\"color: #7fbfbf; text-decoration-color: #7fbfbf\">[09/30/22 08:34:11] </span><span style=\"color: #800000; text-decoration-color: #800000\">WARNING </span> To use the Graphein submodule graphein.protein.meshes, you need to        <a href=\"file:///opt/conda/lib/python3.7/site-packages/graphein/protein/meshes.py\" target=\"_blank\"><span style=\"color: #7f7f7f; text-decoration-color: #7f7f7f\">meshes.py</span></a><span style=\"color: #7f7f7f; text-decoration-color: #7f7f7f\">:</span><a href=\"file:///opt/conda/lib/python3.7/site-packages/graphein/protein/meshes.py#29\" target=\"_blank\"><span style=\"color: #7f7f7f; text-decoration-color: #7f7f7f\">29</span></a>\n",
       "<span style=\"color: #7fbfbf; text-decoration-color: #7fbfbf\">                    </span>         install: pytorch3d                                                        <span style=\"color: #7f7f7f; text-decoration-color: #7f7f7f\">            </span>\n",
       "<span style=\"color: #7fbfbf; text-decoration-color: #7fbfbf\">                    </span>         To do so, use the following command: conda install -c pytorch3d pytorch3d <span style=\"color: #7f7f7f; text-decoration-color: #7f7f7f\">            </span>\n",
       "</pre>\n"
      ],
      "text/plain": [
       "\u001b[2;36m[09/30/22 08:34:11]\u001b[0m\u001b[2;36m \u001b[0m\u001b[31mWARNING \u001b[0m To use the Graphein submodule graphein.protein.meshes, you need to        \u001b]8;id=236178;file:///opt/conda/lib/python3.7/site-packages/graphein/protein/meshes.py\u001b\\\u001b[2mmeshes.py\u001b[0m\u001b]8;;\u001b\\\u001b[2m:\u001b[0m\u001b]8;id=900720;file:///opt/conda/lib/python3.7/site-packages/graphein/protein/meshes.py#29\u001b\\\u001b[2m29\u001b[0m\u001b]8;;\u001b\\\n",
       "\u001b[2;36m                    \u001b[0m         install: pytorch3d                                                        \u001b[2m            \u001b[0m\n",
       "\u001b[2;36m                    \u001b[0m         To do so, use the following command: conda install -c pytorch3d pytorch3d \u001b[2m            \u001b[0m\n"
      ]
     },
     "metadata": {},
     "output_type": "display_data"
    }
   ],
   "source": [
    "\n",
    "import os\n",
    "import torch \n",
    "\n",
    "from functools import partial\n",
    "from graphein.ml.conversion import GraphFormatConvertor\n",
    "from graphein.ml import ProteinGraphDataset\n",
    "from graphein.protein.config import ProteinGraphConfig\n",
    "from graphein.protein.edges.distance import add_distance_threshold\n",
    "from graphein.protein.features.nodes.amino_acid import (amino_acid_one_hot,\n",
    "                                                        meiler_embedding)\n",
    "\n",
    "params_to_change = {\"granularity\": \"centroids\", \n",
    "     \"node_metadata_functions\": [amino_acid_one_hot, meiler_embedding],\n",
    "     \"edge_construction_functions\": [partial(add_distance_threshold, long_interaction_threshold=0, threshold=15)]}\n",
    "\n",
    "config = ProteinGraphConfig(**params_to_change)\n",
    "\n",
    "graph_format_convertor = GraphFormatConvertor(\n",
    "        src_format=\"nx\", dst_format=\"pyg\",\n",
    "        columns = [\n",
    "                \"edge_index\",\n",
    "                \"coords\",\n",
    "                \"dist_mat\",\n",
    "                \"name\",\n",
    "                \"node_id\",\n",
    "                \"amino_acid_one_hot\",\n",
    "                \"meiler\"\n",
    "            ]\n",
    ")\n",
    "\n",
    "\n",
    "# local_dir = \"./dataset/pdb/\"\n",
    "local_dir = \"/deeplearning/data/uniprot/selected_alphafold2\"\n",
    "pdb_paths = [os.path.join(local_dir, pdb_path) for pdb_path in os.listdir(local_dir) if pdb_path.endswith(\".pdb\")]\n",
    "\n",
    "\n",
    "\n",
    "ds = ProteinGraphDataset(\n",
    "    # root = \"./dataset/pdb/\",\n",
    "    root = \"./dataset/af2/\",\n",
    "    pdb_paths = pdb_paths,\n",
    "    graphein_config=config,\n",
    "    graph_format_convertor=graph_format_convertor,\n",
    "    num_cores = 32\n",
    ")\n",
    "\n"
   ]
  },
  {
   "cell_type": "markdown",
   "metadata": {},
   "source": [
    "we could plot it "
   ]
  },
  {
   "cell_type": "code",
   "execution_count": 2,
   "metadata": {},
   "outputs": [],
   "source": [
    "# from graphein.ml.visualisation import plot_pyg_data\n",
    "\n",
    "# p = plot_pyg_data(ds[0],\n",
    "#     colour_nodes_by=\"degree\",\n",
    "#     label_node_ids=False,\n",
    "#     plot_title=\"Peptide backbone graph. Nodes coloured by degree.\",\n",
    "#     node_size_multiplier=1\n",
    "#     )\n",
    "# p.show()\n",
    "\n"
   ]
  },
  {
   "cell_type": "markdown",
   "metadata": {},
   "source": [
    "load nsSNP"
   ]
  },
  {
   "cell_type": "code",
   "execution_count": 3,
   "metadata": {},
   "outputs": [
    {
     "name": "stderr",
     "output_type": "stream",
     "text": [
      "/opt/conda/lib/python3.7/site-packages/IPython/core/interactiveshell.py:3457: DtypeWarning: Columns (18) have mixed types.Specify dtype option on import or set low_memory=False.\n",
      "  exec(code_obj, self.user_global_ns, self.user_ns)\n"
     ]
    }
   ],
   "source": [
    "\n",
    "import pandas as pd \n",
    "pd.set_option('display.max_columns', 100)\n",
    "\n",
    "nsSNP_df = pd.read_csv(\"../data/filter_data/statistic3d/clinvar_clean_for_statistic.csv\", sep =\"\\t\")\n",
    "nsSNP_df.dropna(subset=[\"uniprot accession\"], inplace=True)\n",
    "nsSNP_df = nsSNP_df.sort_values(\"uniprot accession\")\n",
    "\n",
    "\n"
   ]
  },
  {
   "cell_type": "code",
   "execution_count": 4,
   "metadata": {},
   "outputs": [],
   "source": [
    "# nsSNP_df.head()"
   ]
  },
  {
   "cell_type": "code",
   "execution_count": 5,
   "metadata": {},
   "outputs": [],
   "source": [
    "import re \n",
    "af2_root_path = \"dataset/af2/processed/\"  # 读入预先处理后得到的af2 Graph\n",
    "af2_structure_dict = {re.search(r\"(?<=AF-)[^-]*(?=-)\", i).group() : os.path.join(af2_root_path, i) for i in os.listdir(af2_root_path) if os.path.splitext(i)[-1] == \".pt\" and \"pre\" not in i}  # 识别的格式命名\n"
   ]
  },
  {
   "cell_type": "code",
   "execution_count": 6,
   "metadata": {},
   "outputs": [],
   "source": [
    "\n",
    "uacc = \"P29016\"\n",
    "\n",
    "uacc_df = nsSNP_df[nsSNP_df[\"uniprot accession\"] == uacc]\n",
    "\n",
    "uacc_wildType_graph = torch.load(af2_structure_dict[uacc])\n",
    "# uacc_df[\"AAS\"]"
   ]
  },
  {
   "cell_type": "code",
   "execution_count": 7,
   "metadata": {},
   "outputs": [
    {
     "data": {
      "text/plain": [
       "['A:MET:1',\n",
       " 'A:LEU:2',\n",
       " 'A:LEU:3',\n",
       " 'A:LEU:4',\n",
       " 'A:PRO:5',\n",
       " 'A:PHE:6',\n",
       " 'A:GLN:7',\n",
       " 'A:LEU:8',\n",
       " 'A:LEU:9',\n",
       " 'A:ALA:10',\n",
       " 'A:VAL:11',\n",
       " 'A:LEU:12',\n",
       " 'A:PHE:13',\n",
       " 'A:PRO:14',\n",
       " 'A:GLY:15',\n",
       " 'A:GLY:16',\n",
       " 'A:ASN:17',\n",
       " 'A:SER:18',\n",
       " 'A:GLU:19',\n",
       " 'A:HIS:20',\n",
       " 'A:ALA:21',\n",
       " 'A:PHE:22',\n",
       " 'A:GLN:23',\n",
       " 'A:GLY:24',\n",
       " 'A:PRO:25',\n",
       " 'A:THR:26',\n",
       " 'A:SER:27',\n",
       " 'A:PHE:28',\n",
       " 'A:HIS:29',\n",
       " 'A:VAL:30',\n",
       " 'A:ILE:31',\n",
       " 'A:GLN:32',\n",
       " 'A:THR:33',\n",
       " 'A:SER:34',\n",
       " 'A:SER:35',\n",
       " 'A:PHE:36',\n",
       " 'A:THR:37',\n",
       " 'A:ASN:38',\n",
       " 'A:SER:39',\n",
       " 'A:THR:40',\n",
       " 'A:TRP:41',\n",
       " 'A:ALA:42',\n",
       " 'A:GLN:43',\n",
       " 'A:THR:44',\n",
       " 'A:GLN:45',\n",
       " 'A:GLY:46',\n",
       " 'A:SER:47',\n",
       " 'A:GLY:48',\n",
       " 'A:TRP:49',\n",
       " 'A:LEU:50',\n",
       " 'A:ASP:51',\n",
       " 'A:ASP:52',\n",
       " 'A:LEU:53',\n",
       " 'A:GLN:54',\n",
       " 'A:ILE:55',\n",
       " 'A:HIS:56',\n",
       " 'A:GLY:57',\n",
       " 'A:TRP:58',\n",
       " 'A:ASP:59',\n",
       " 'A:SER:60',\n",
       " 'A:ASP:61',\n",
       " 'A:SER:62',\n",
       " 'A:GLY:63',\n",
       " 'A:THR:64',\n",
       " 'A:ALA:65',\n",
       " 'A:ILE:66',\n",
       " 'A:PHE:67',\n",
       " 'A:LEU:68',\n",
       " 'A:LYS:69',\n",
       " 'A:PRO:70',\n",
       " 'A:TRP:71',\n",
       " 'A:SER:72',\n",
       " 'A:LYS:73',\n",
       " 'A:GLY:74',\n",
       " 'A:ASN:75',\n",
       " 'A:PHE:76',\n",
       " 'A:SER:77',\n",
       " 'A:ASP:78',\n",
       " 'A:LYS:79',\n",
       " 'A:GLU:80',\n",
       " 'A:VAL:81',\n",
       " 'A:ALA:82',\n",
       " 'A:GLU:83',\n",
       " 'A:LEU:84',\n",
       " 'A:GLU:85',\n",
       " 'A:GLU:86',\n",
       " 'A:ILE:87',\n",
       " 'A:PHE:88',\n",
       " 'A:ARG:89',\n",
       " 'A:VAL:90',\n",
       " 'A:TYR:91',\n",
       " 'A:ILE:92',\n",
       " 'A:PHE:93',\n",
       " 'A:GLY:94',\n",
       " 'A:PHE:95',\n",
       " 'A:ALA:96',\n",
       " 'A:ARG:97',\n",
       " 'A:GLU:98',\n",
       " 'A:VAL:99',\n",
       " 'A:GLN:100',\n",
       " 'A:ASP:101',\n",
       " 'A:PHE:102',\n",
       " 'A:ALA:103',\n",
       " 'A:GLY:104',\n",
       " 'A:ASP:105',\n",
       " 'A:PHE:106',\n",
       " 'A:GLN:107',\n",
       " 'A:MET:108',\n",
       " 'A:LYS:109',\n",
       " 'A:TYR:110',\n",
       " 'A:PRO:111',\n",
       " 'A:PHE:112',\n",
       " 'A:GLU:113',\n",
       " 'A:ILE:114',\n",
       " 'A:GLN:115',\n",
       " 'A:GLY:116',\n",
       " 'A:ILE:117',\n",
       " 'A:ALA:118',\n",
       " 'A:GLY:119',\n",
       " 'A:CYS:120',\n",
       " 'A:GLU:121',\n",
       " 'A:LEU:122',\n",
       " 'A:HIS:123',\n",
       " 'A:SER:124',\n",
       " 'A:GLY:125',\n",
       " 'A:GLY:126',\n",
       " 'A:ALA:127',\n",
       " 'A:ILE:128',\n",
       " 'A:VAL:129',\n",
       " 'A:SER:130',\n",
       " 'A:PHE:131',\n",
       " 'A:LEU:132',\n",
       " 'A:ARG:133',\n",
       " 'A:GLY:134',\n",
       " 'A:ALA:135',\n",
       " 'A:LEU:136',\n",
       " 'A:GLY:137',\n",
       " 'A:GLY:138',\n",
       " 'A:LEU:139',\n",
       " 'A:ASP:140',\n",
       " 'A:PHE:141',\n",
       " 'A:LEU:142',\n",
       " 'A:SER:143',\n",
       " 'A:VAL:144',\n",
       " 'A:LYS:145',\n",
       " 'A:ASN:146',\n",
       " 'A:ALA:147',\n",
       " 'A:SER:148',\n",
       " 'A:CYS:149',\n",
       " 'A:VAL:150',\n",
       " 'A:PRO:151',\n",
       " 'A:SER:152',\n",
       " 'A:PRO:153',\n",
       " 'A:GLU:154',\n",
       " 'A:GLY:155',\n",
       " 'A:GLY:156',\n",
       " 'A:SER:157',\n",
       " 'A:ARG:158',\n",
       " 'A:ALA:159',\n",
       " 'A:GLN:160',\n",
       " 'A:LYS:161',\n",
       " 'A:PHE:162',\n",
       " 'A:CYS:163',\n",
       " 'A:ALA:164',\n",
       " 'A:LEU:165',\n",
       " 'A:ILE:166',\n",
       " 'A:ILE:167',\n",
       " 'A:GLN:168',\n",
       " 'A:TYR:169',\n",
       " 'A:GLN:170',\n",
       " 'A:GLY:171',\n",
       " 'A:ILE:172',\n",
       " 'A:MET:173',\n",
       " 'A:GLU:174',\n",
       " 'A:THR:175',\n",
       " 'A:VAL:176',\n",
       " 'A:ARG:177',\n",
       " 'A:ILE:178',\n",
       " 'A:LEU:179',\n",
       " 'A:LEU:180',\n",
       " 'A:TYR:181',\n",
       " 'A:GLU:182',\n",
       " 'A:THR:183',\n",
       " 'A:CYS:184',\n",
       " 'A:PRO:185',\n",
       " 'A:ARG:186',\n",
       " 'A:TYR:187',\n",
       " 'A:LEU:188',\n",
       " 'A:LEU:189',\n",
       " 'A:GLY:190',\n",
       " 'A:VAL:191',\n",
       " 'A:LEU:192',\n",
       " 'A:ASN:193',\n",
       " 'A:ALA:194',\n",
       " 'A:GLY:195',\n",
       " 'A:LYS:196',\n",
       " 'A:ALA:197',\n",
       " 'A:ASP:198',\n",
       " 'A:LEU:199',\n",
       " 'A:GLN:200',\n",
       " 'A:ARG:201',\n",
       " 'A:GLN:202',\n",
       " 'A:VAL:203',\n",
       " 'A:LYS:204',\n",
       " 'A:PRO:205',\n",
       " 'A:GLU:206',\n",
       " 'A:ALA:207',\n",
       " 'A:TRP:208',\n",
       " 'A:LEU:209',\n",
       " 'A:SER:210',\n",
       " 'A:SER:211',\n",
       " 'A:GLY:212',\n",
       " 'A:PRO:213',\n",
       " 'A:SER:214',\n",
       " 'A:PRO:215',\n",
       " 'A:GLY:216',\n",
       " 'A:PRO:217',\n",
       " 'A:GLY:218',\n",
       " 'A:ARG:219',\n",
       " 'A:LEU:220',\n",
       " 'A:GLN:221',\n",
       " 'A:LEU:222',\n",
       " 'A:VAL:223',\n",
       " 'A:CYS:224',\n",
       " 'A:HIS:225',\n",
       " 'A:VAL:226',\n",
       " 'A:SER:227',\n",
       " 'A:GLY:228',\n",
       " 'A:PHE:229',\n",
       " 'A:TYR:230',\n",
       " 'A:PRO:231',\n",
       " 'A:LYS:232',\n",
       " 'A:PRO:233',\n",
       " 'A:VAL:234',\n",
       " 'A:TRP:235',\n",
       " 'A:VAL:236',\n",
       " 'A:MET:237',\n",
       " 'A:TRP:238',\n",
       " 'A:MET:239',\n",
       " 'A:ARG:240',\n",
       " 'A:GLY:241',\n",
       " 'A:GLU:242',\n",
       " 'A:GLN:243',\n",
       " 'A:GLU:244',\n",
       " 'A:GLN:245',\n",
       " 'A:GLN:246',\n",
       " 'A:GLY:247',\n",
       " 'A:THR:248',\n",
       " 'A:GLN:249',\n",
       " 'A:LEU:250',\n",
       " 'A:GLY:251',\n",
       " 'A:ASP:252',\n",
       " 'A:ILE:253',\n",
       " 'A:LEU:254',\n",
       " 'A:PRO:255',\n",
       " 'A:ASN:256',\n",
       " 'A:ALA:257',\n",
       " 'A:ASN:258',\n",
       " 'A:TRP:259',\n",
       " 'A:THR:260',\n",
       " 'A:TRP:261',\n",
       " 'A:TYR:262',\n",
       " 'A:LEU:263',\n",
       " 'A:ARG:264',\n",
       " 'A:ALA:265',\n",
       " 'A:THR:266',\n",
       " 'A:LEU:267',\n",
       " 'A:ASP:268',\n",
       " 'A:VAL:269',\n",
       " 'A:ALA:270',\n",
       " 'A:ASP:271',\n",
       " 'A:GLY:272',\n",
       " 'A:GLU:273',\n",
       " 'A:ALA:274',\n",
       " 'A:ALA:275',\n",
       " 'A:GLY:276',\n",
       " 'A:LEU:277',\n",
       " 'A:SER:278',\n",
       " 'A:CYS:279',\n",
       " 'A:ARG:280',\n",
       " 'A:VAL:281',\n",
       " 'A:LYS:282',\n",
       " 'A:HIS:283',\n",
       " 'A:SER:284',\n",
       " 'A:SER:285',\n",
       " 'A:LEU:286',\n",
       " 'A:GLU:287',\n",
       " 'A:GLY:288',\n",
       " 'A:GLN:289',\n",
       " 'A:ASP:290',\n",
       " 'A:ILE:291',\n",
       " 'A:ILE:292',\n",
       " 'A:LEU:293',\n",
       " 'A:TYR:294',\n",
       " 'A:TRP:295',\n",
       " 'A:ARG:296',\n",
       " 'A:ASN:297',\n",
       " 'A:PRO:298',\n",
       " 'A:THR:299',\n",
       " 'A:SER:300',\n",
       " 'A:ILE:301',\n",
       " 'A:GLY:302',\n",
       " 'A:SER:303',\n",
       " 'A:ILE:304',\n",
       " 'A:VAL:305',\n",
       " 'A:LEU:306',\n",
       " 'A:ALA:307',\n",
       " 'A:ILE:308',\n",
       " 'A:ILE:309',\n",
       " 'A:VAL:310',\n",
       " 'A:PRO:311',\n",
       " 'A:SER:312',\n",
       " 'A:LEU:313',\n",
       " 'A:LEU:314',\n",
       " 'A:LEU:315',\n",
       " 'A:LEU:316',\n",
       " 'A:LEU:317',\n",
       " 'A:CYS:318',\n",
       " 'A:LEU:319',\n",
       " 'A:ALA:320',\n",
       " 'A:LEU:321',\n",
       " 'A:TRP:322',\n",
       " 'A:TYR:323',\n",
       " 'A:MET:324',\n",
       " 'A:ARG:325',\n",
       " 'A:ARG:326',\n",
       " 'A:ARG:327',\n",
       " 'A:SER:328',\n",
       " 'A:TYR:329',\n",
       " 'A:GLN:330',\n",
       " 'A:ASN:331',\n",
       " 'A:ILE:332',\n",
       " 'A:PRO:333']"
      ]
     },
     "execution_count": 7,
     "metadata": {},
     "output_type": "execute_result"
    }
   ],
   "source": [
    "uacc_wildType_graph[\"node_id\"]"
   ]
  },
  {
   "cell_type": "code",
   "execution_count": 8,
   "metadata": {},
   "outputs": [
    {
     "data": {
      "text/plain": [
       "'P29016'"
      ]
     },
     "execution_count": 8,
     "metadata": {},
     "output_type": "execute_result"
    }
   ],
   "source": [
    "from Gandalf.utils import get_uacc_from_af2\n",
    "\n",
    "get_uacc_from_af2(uacc_wildType_graph.name[0])"
   ]
  },
  {
   "cell_type": "code",
   "execution_count": null,
   "metadata": {},
   "outputs": [],
   "source": []
  },
  {
   "cell_type": "code",
   "execution_count": 9,
   "metadata": {},
   "outputs": [
    {
     "data": {
      "text/plain": [
       "Data(\n",
       "  edge_index=[2, 6716],\n",
       "  node_id=[333],\n",
       "  coords=[1],\n",
       "  amino_acid_one_hot={ A=[333, 20] },\n",
       "  meiler={ A=[333, 7] },\n",
       "  name=[1],\n",
       "  dist_mat=[1],\n",
       "  num_nodes=333,\n",
       "  graph_name=[1],\n",
       "  mutation_masked_tensor=[1]\n",
       ")"
      ]
     },
     "execution_count": 9,
     "metadata": {},
     "output_type": "execute_result"
    }
   ],
   "source": [
    "\n",
    "from Gandalf.mutant import generate_nsSNP_pyg\n",
    "from graphein.protein.features.nodes.amino_acid import amino_acid_one_hot, meiler_embedding\n",
    "\n",
    "test = generate_nsSNP_pyg(uacc_wildType_graph, SNP=\"MET1VAL\", node_metadata_functions = {\"amino_acid_one_hot\":amino_acid_one_hot, \"meiler\":meiler_embedding})\n",
    "test "
   ]
  },
  {
   "cell_type": "code",
   "execution_count": 1,
   "metadata": {},
   "outputs": [
    {
     "name": "stderr",
     "output_type": "stream",
     "text": [
      "/opt/conda/lib/python3.7/site-packages/tqdm/auto.py:22: TqdmWarning: IProgress not found. Please update jupyter and ipywidgets. See https://ipywidgets.readthedocs.io/en/stable/user_install.html\n",
      "  from .autonotebook import tqdm as notebook_tqdm\n",
      "To use the Graphein submodule graphein.protein.features.sequence.embeddings, you need to install: biovec \n",
      "biovec cannot be installed via conda\n",
      "To use the Graphein submodule graphein.protein.visualisation, you need to install: pytorch3d \n",
      "To do so, use the following command: conda install -c pytorch3d pytorch3d\n"
     ]
    },
    {
     "data": {
      "text/html": [
       "<pre style=\"white-space:pre;overflow-x:auto;line-height:normal;font-family:Menlo,'DejaVu Sans Mono',consolas,'Courier New',monospace\"><span style=\"color: #7fbfbf; text-decoration-color: #7fbfbf\">[09/30/22 11:50:11] </span><span style=\"color: #800000; text-decoration-color: #800000\">WARNING </span> To use the Graphein submodule graphein.protein.meshes, you need to        <a href=\"file:///opt/conda/lib/python3.7/site-packages/graphein/protein/meshes.py\" target=\"_blank\"><span style=\"color: #7f7f7f; text-decoration-color: #7f7f7f\">meshes.py</span></a><span style=\"color: #7f7f7f; text-decoration-color: #7f7f7f\">:</span><a href=\"file:///opt/conda/lib/python3.7/site-packages/graphein/protein/meshes.py#29\" target=\"_blank\"><span style=\"color: #7f7f7f; text-decoration-color: #7f7f7f\">29</span></a>\n",
       "<span style=\"color: #7fbfbf; text-decoration-color: #7fbfbf\">                    </span>         install: pytorch3d                                                        <span style=\"color: #7f7f7f; text-decoration-color: #7f7f7f\">            </span>\n",
       "<span style=\"color: #7fbfbf; text-decoration-color: #7fbfbf\">                    </span>         To do so, use the following command: conda install -c pytorch3d pytorch3d <span style=\"color: #7f7f7f; text-decoration-color: #7f7f7f\">            </span>\n",
       "</pre>\n"
      ],
      "text/plain": [
       "\u001b[2;36m[09/30/22 11:50:11]\u001b[0m\u001b[2;36m \u001b[0m\u001b[31mWARNING \u001b[0m To use the Graphein submodule graphein.protein.meshes, you need to        \u001b]8;id=900616;file:///opt/conda/lib/python3.7/site-packages/graphein/protein/meshes.py\u001b\\\u001b[2mmeshes.py\u001b[0m\u001b]8;;\u001b\\\u001b[2m:\u001b[0m\u001b]8;id=484954;file:///opt/conda/lib/python3.7/site-packages/graphein/protein/meshes.py#29\u001b\\\u001b[2m29\u001b[0m\u001b]8;;\u001b\\\n",
       "\u001b[2;36m                    \u001b[0m         install: pytorch3d                                                        \u001b[2m            \u001b[0m\n",
       "\u001b[2;36m                    \u001b[0m         To do so, use the following command: conda install -c pytorch3d pytorch3d \u001b[2m            \u001b[0m\n"
      ]
     },
     "metadata": {},
     "output_type": "display_data"
    },
    {
     "data": {
      "text/html": [
       "<pre style=\"white-space:pre;overflow-x:auto;line-height:normal;font-family:Menlo,'DejaVu Sans Mono',consolas,'Courier New',monospace\">/opt/conda/lib/python3.7/site-packages/rich/live.py:229: UserWarning: install \"ipywidgets\" for Jupyter support\n",
       "  warnings.warn('install \"ipywidgets\" for Jupyter support')\n",
       "</pre>\n"
      ],
      "text/plain": [
       "/opt/conda/lib/python3.7/site-packages/rich/live.py:229: UserWarning: install \"ipywidgets\" for Jupyter support\n",
       "  warnings.warn('install \"ipywidgets\" for Jupyter support')\n"
      ]
     },
     "metadata": {},
     "output_type": "display_data"
    },
    {
     "data": {
      "text/html": [
       "<pre style=\"white-space:pre;overflow-x:auto;line-height:normal;font-family:Menlo,'DejaVu Sans Mono',consolas,'Courier New',monospace\"></pre>\n"
      ],
      "text/plain": []
     },
     "metadata": {},
     "output_type": "display_data"
    },
    {
     "data": {
      "text/html": [
       "<pre style=\"white-space:pre;overflow-x:auto;line-height:normal;font-family:Menlo,'DejaVu Sans Mono',consolas,'Courier New',monospace\">\n",
       "</pre>\n"
      ],
      "text/plain": [
       "\n"
      ]
     },
     "metadata": {},
     "output_type": "display_data"
    },
    {
     "data": {
      "text/plain": [
       "Data(\n",
       "  edge_index=[2, 1350],\n",
       "  node_id=[1355],\n",
       "  coords=[1],\n",
       "  name=[1],\n",
       "  dist_mat=[1],\n",
       "  num_nodes=1355,\n",
       "  mutation_chain_dict={\n",
       "    A=[271],\n",
       "    B=[271],\n",
       "    C=[271],\n",
       "    D=[271],\n",
       "    E=[271]\n",
       "  },\n",
       "  graph_name=[1],\n",
       "  mutation_masked_0_based_pos=[5],\n",
       "  graph_label={\n",
       "    A=1,\n",
       "    B=0,\n",
       "    C=None,\n",
       "    D=None,\n",
       "    E=None\n",
       "  },\n",
       "  amino_acid_one_hot=[5],\n",
       "  meiler=[5]\n",
       ")"
      ]
     },
     "execution_count": 1,
     "metadata": {},
     "output_type": "execute_result"
    }
   ],
   "source": [
    "from graphein.protein.visualisation import plotly_protein_structure_graph\n",
    "import graphein.protein as gp\n",
    "from graphein.protein.graphs import construct_graph\n",
    "import os \n",
    "from graphein.protein.config import ProteinGraphConfig\n",
    "from graphein.ml.conversion import GraphFormatConvertor\n",
    "\n",
    "from Gandalf.mutant import generate_nsSNP_pyg\n",
    "from graphein.protein.features.nodes.amino_acid import amino_acid_one_hot, meiler_embedding\n",
    "\n",
    "g = construct_graph(config=ProteinGraphConfig(),\n",
    "                     pdb_path=\"/deeplearning/GNN/ipynb_tutorials/graphein/pdb/ranked_0.pdb\")\n",
    "graph_format_convertor = GraphFormatConvertor(src_format=\"nx\", dst_format=\"pyg\")\n",
    "pyg_g = graph_format_convertor(g)\n",
    "\n",
    "multiple_chain = generate_nsSNP_pyg(pyg_g, SNP={\"A\":\"MET1VAL\", \"B\":\"MET1VAL\"}, graph_label = {\"A\":1, \"B\":0}, node_metadata_functions = {\"amino_acid_one_hot\":amino_acid_one_hot, \"meiler\":meiler_embedding})\n",
    "multiple_chain "
   ]
  },
  {
   "cell_type": "code",
   "execution_count": 2,
   "metadata": {},
   "outputs": [
    {
     "data": {
      "text/plain": [
       "{'A': 1, 'B': 0, 'C': None, 'D': None, 'E': None}"
      ]
     },
     "execution_count": 2,
     "metadata": {},
     "output_type": "execute_result"
    }
   ],
   "source": [
    "multiple_chain[\"graph_label\"]"
   ]
  },
  {
   "cell_type": "code",
   "execution_count": 11,
   "metadata": {},
   "outputs": [],
   "source": [
    "# groupby = nsSNP_df.groupby(\"uniprot accession\", as_index=False)\n",
    "\n",
    "# x = torch.load(list(af2_structure_dict.values())[0])\n",
    "# x.node_id"
   ]
  }
 ],
 "metadata": {
  "kernelspec": {
   "display_name": "Python 3.7.13 ('base')",
   "language": "python",
   "name": "python3"
  },
  "language_info": {
   "codemirror_mode": {
    "name": "ipython",
    "version": 3
   },
   "file_extension": ".py",
   "mimetype": "text/x-python",
   "name": "python",
   "nbconvert_exporter": "python",
   "pygments_lexer": "ipython3",
   "version": "3.7.13"
  },
  "orig_nbformat": 4,
  "vscode": {
   "interpreter": {
    "hash": "d4d1e4263499bec80672ea0156c357c1ee493ec2b1c70f0acce89fc37c4a6abe"
   }
  }
 },
 "nbformat": 4,
 "nbformat_minor": 2
}
